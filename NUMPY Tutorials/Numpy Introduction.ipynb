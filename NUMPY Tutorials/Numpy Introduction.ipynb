{
 "cells": [
  {
   "cell_type": "markdown",
   "id": "677ae696",
   "metadata": {},
   "source": [
    "# Numpy Array - vectorized operations "
   ]
  },
  {
   "cell_type": "code",
   "execution_count": 2,
   "id": "972df83c",
   "metadata": {
    "scrolled": true
   },
   "outputs": [
    {
     "name": "stdout",
     "output_type": "stream",
     "text": [
      "[ 10  15   5 205]\n"
     ]
    }
   ],
   "source": [
    "import numpy as np\n",
    "lst = [5, 10, 0, 200]\n",
    "arr=np.array(lst)\n",
    "\n",
    "print(arr+5)"
   ]
  },
  {
   "cell_type": "markdown",
   "id": "95024167",
   "metadata": {},
   "source": [
    "# Homogeniety test in numpy"
   ]
  },
  {
   "cell_type": "code",
   "execution_count": 8,
   "id": "aa83e4d2",
   "metadata": {},
   "outputs": [
    {
     "name": "stdout",
     "output_type": "stream",
     "text": [
      "<class 'numpy.str_'>\n",
      "<class 'numpy.str_'>\n",
      "<class 'numpy.str_'>\n",
      "<class 'numpy.str_'>\n",
      "<class 'numpy.str_'>\n",
      "<class 'numpy.str_'>\n"
     ]
    }
   ],
   "source": [
    "lst = [1, 2, 3, 'text', True, 3+2j]\n",
    "import numpy as np\n",
    "arr=np.array(lst)\n",
    "for i in arr:\n",
    "    print(type(i))\n",
    "\n"
   ]
  },
  {
   "cell_type": "markdown",
   "id": "ee8a7af0",
   "metadata": {},
   "source": [
    "# Numpy array size"
   ]
  },
  {
   "cell_type": "code",
   "execution_count": 9,
   "id": "c3eb2448",
   "metadata": {},
   "outputs": [
    {
     "name": "stdout",
     "output_type": "stream",
     "text": [
      "16\n"
     ]
    }
   ],
   "source": [
    "lst = [56, 45, 12, 6]\n",
    "import numpy as np\n",
    "arr = np.array(lst)\n",
    "print(arr.nbytes)"
   ]
  },
  {
   "cell_type": "code",
   "execution_count": null,
   "id": "2f517d1e",
   "metadata": {},
   "outputs": [],
   "source": []
  }
 ],
 "metadata": {
  "kernelspec": {
   "display_name": "Python 3 (ipykernel)",
   "language": "python",
   "name": "python3"
  },
  "language_info": {
   "codemirror_mode": {
    "name": "ipython",
    "version": 3
   },
   "file_extension": ".py",
   "mimetype": "text/x-python",
   "name": "python",
   "nbconvert_exporter": "python",
   "pygments_lexer": "ipython3",
   "version": "3.11.5"
  }
 },
 "nbformat": 4,
 "nbformat_minor": 5
}
