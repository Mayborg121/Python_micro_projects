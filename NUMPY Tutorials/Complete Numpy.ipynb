{
 "cells": [
  {
   "cell_type": "markdown",
   "id": "ac8a4182",
   "metadata": {},
   "source": [
    "# NUMPY COMPLETE "
   ]
  },
  {
   "cell_type": "code",
   "execution_count": 1,
   "id": "d40c8aae",
   "metadata": {},
   "outputs": [],
   "source": [
    "import numpy as np"
   ]
  },
  {
   "cell_type": "code",
   "execution_count": 2,
   "id": "d70823a4",
   "metadata": {},
   "outputs": [
    {
     "name": "stdout",
     "output_type": "stream",
     "text": [
      "[1, 2, 3, 4, 5]\n"
     ]
    }
   ],
   "source": [
    "lst = [1,2,3,4,5]\n",
    "print(lst)"
   ]
  },
  {
   "cell_type": "markdown",
   "id": "3df05867",
   "metadata": {},
   "source": [
    "## ARRAYS in NUMPY"
   ]
  },
  {
   "cell_type": "code",
   "execution_count": 3,
   "id": "1387f6ba",
   "metadata": {},
   "outputs": [
    {
     "name": "stdout",
     "output_type": "stream",
     "text": [
      "1D Array\n",
      "[1 2 3 4 5]\n",
      "2D Array\n",
      "[[1 2 3 4 5]\n",
      " [5 4 3 2 1]]\n",
      "3D Array\n",
      "[[[1 2 3]\n",
      "  [3 2 1]\n",
      "  [4 5 6]]\n",
      "\n",
      " [[1 1 1]\n",
      "  [2 2 2]\n",
      "  [3 3 3]]\n",
      "\n",
      " [[3 3 3]\n",
      "  [4 4 4]\n",
      "  [5 5 5]]]\n"
     ]
    }
   ],
   "source": [
    "print(\"1D Array\")\n",
    "\n",
    "a = np.array([1,2,3,4,5])\n",
    "print(a)\n",
    "\n",
    "print(\"2D Array\")\n",
    "b = np.array([[1,2,3,4,5],\n",
    "             [5,4,3,2,1]])\n",
    "print(b)\n",
    "\n",
    "print(\"3D Array\")\n",
    "c = np.array([[[1,2,3],[3,2,1],[4,5,6]],\n",
    "              [[1,1,1],[2,2,2],[3,3,3]],\n",
    "              [[3,3,3],[4,4,4],[5,5,5]]])\n",
    "print(c)"
   ]
  },
  {
   "cell_type": "markdown",
   "id": "baac7ccb",
   "metadata": {},
   "source": [
    "## Type Function type() & .ndim method"
   ]
  },
  {
   "cell_type": "code",
   "execution_count": 4,
   "id": "10a08211",
   "metadata": {},
   "outputs": [
    {
     "name": "stdout",
     "output_type": "stream",
     "text": [
      "Type of Arrays : \n",
      "<class 'numpy.ndarray'>\n",
      "1\n",
      "3\n"
     ]
    }
   ],
   "source": [
    "print(\"Type of Arrays : \")\n",
    "print(type(a))\n",
    "print(a.ndim)\n",
    "print(c.ndim)"
   ]
  },
  {
   "cell_type": "markdown",
   "id": "1ab95cd5",
   "metadata": {},
   "source": [
    "## Size & nbytes methods."
   ]
  },
  {
   "cell_type": "code",
   "execution_count": 5,
   "id": "216eed5d",
   "metadata": {},
   "outputs": [
    {
     "name": "stdout",
     "output_type": "stream",
     "text": [
      "5\n",
      "10\n",
      "27\n",
      "20\n",
      "108\n"
     ]
    }
   ],
   "source": [
    "print(a.size)\n",
    "print(b.size)\n",
    "print(c.size)\n",
    "print(a.nbytes)\n",
    "print(c.nbytes)"
   ]
  },
  {
   "cell_type": "markdown",
   "id": "358c7e9b",
   "metadata": {},
   "source": [
    "# shape & dtype method"
   ]
  },
  {
   "cell_type": "code",
   "execution_count": 6,
   "id": "46741e83",
   "metadata": {},
   "outputs": [
    {
     "name": "stdout",
     "output_type": "stream",
     "text": [
      "(5,)\n",
      "(2, 5)\n",
      "(3, 3, 3)\n",
      "int32\n",
      "int32\n",
      "int32\n"
     ]
    }
   ],
   "source": [
    "print(a.shape)\n",
    "print(b.shape)\n",
    "print(c.shape)\n",
    "\n",
    "print(a.dtype)\n",
    "print(b.dtype)\n",
    "print(c.dtype)"
   ]
  },
  {
   "cell_type": "markdown",
   "id": "8d88c0bc",
   "metadata": {},
   "source": [
    "## transpose() function"
   ]
  },
  {
   "cell_type": "code",
   "execution_count": 7,
   "id": "6b8c2a89",
   "metadata": {},
   "outputs": [
    {
     "data": {
      "text/plain": [
       "array([[1, 5],\n",
       "       [2, 4],\n",
       "       [3, 3],\n",
       "       [4, 2],\n",
       "       [5, 1]])"
      ]
     },
     "execution_count": 7,
     "metadata": {},
     "output_type": "execute_result"
    }
   ],
   "source": [
    "b.transpose()"
   ]
  },
  {
   "cell_type": "markdown",
   "id": "473152d5",
   "metadata": {},
   "source": [
    "## np.empty((rows,cols),dtype)  to genarate random arrays "
   ]
  },
  {
   "cell_type": "code",
   "execution_count": 8,
   "id": "2df32f7c",
   "metadata": {},
   "outputs": [
    {
     "data": {
      "text/plain": [
       "array([[    4128860,     6029375,     3801155],\n",
       "       [    5570652,     6619251,     7536754],\n",
       "       [-1854734336,         636,     6619244]])"
      ]
     },
     "execution_count": 8,
     "metadata": {},
     "output_type": "execute_result"
    }
   ],
   "source": [
    "np.empty((3,3),dtype=int)"
   ]
  },
  {
   "cell_type": "markdown",
   "id": "9ab4fdd5",
   "metadata": {},
   "source": [
    "## np.ones used to create nd-array with 1's as values"
   ]
  },
  {
   "cell_type": "code",
   "execution_count": 9,
   "id": "ba03f787",
   "metadata": {},
   "outputs": [
    {
     "name": "stdout",
     "output_type": "stream",
     "text": [
      "[1. 1. 1. 1. 1.]\n",
      "[[1. 1.]\n",
      " [1. 1.]\n",
      " [1. 1.]]\n",
      "[[ True  True  True  True  True  True]\n",
      " [ True  True  True  True  True  True]\n",
      " [ True  True  True  True  True  True]]\n"
     ]
    }
   ],
   "source": [
    "p = np.ones(5)\n",
    "print(p)\n",
    "\n",
    "q = np.ones((3,2))\n",
    "print(q)\n",
    "\n",
    "r = np.ones((3,6), dtype = bool)\n",
    "print(r)"
   ]
  },
  {
   "cell_type": "markdown",
   "id": "eb416a5e",
   "metadata": {},
   "source": [
    "## np.zeros used to create nd-array with 0's as values"
   ]
  },
  {
   "cell_type": "code",
   "execution_count": 10,
   "id": "cb8262a8",
   "metadata": {},
   "outputs": [
    {
     "name": "stdout",
     "output_type": "stream",
     "text": [
      "[0. 0. 0. 0. 0.]\n",
      "[[0. 0.]\n",
      " [0. 0.]\n",
      " [0. 0.]]\n",
      "[[False False False False False False False False]\n",
      " [False False False False False False False False]\n",
      " [False False False False False False False False]\n",
      " [False False False False False False False False]]\n"
     ]
    }
   ],
   "source": [
    "p = np.zeros(5)\n",
    "print(p)\n",
    "\n",
    "q = np.zeros((3,2))\n",
    "print(q)\n",
    "\n",
    "r = np.zeros((4,8), dtype = bool)\n",
    "print(r)"
   ]
  },
  {
   "cell_type": "markdown",
   "id": "21e9e2c6",
   "metadata": {},
   "source": [
    "## np.arange(start,end,step) -used to create arrays with given range"
   ]
  },
  {
   "cell_type": "code",
   "execution_count": 11,
   "id": "f8cc7881",
   "metadata": {},
   "outputs": [
    {
     "name": "stdout",
     "output_type": "stream",
     "text": [
      "[1 2 3 4 5 6 7 8 9]\n",
      "[ 1  3  5  7  9 11 13 15 17 19 21 23]\n",
      "[ 2  4  6  8 10 12 14 16 18 20 22 24]\n"
     ]
    }
   ],
   "source": [
    "a = np.arange(1,10)\n",
    "print(a)\n",
    "\n",
    "b = np.arange(1,25,2) #prints odd nos from 1-20\n",
    "print(b)\n",
    "\n",
    "c = np.arange(2,25,2) #prints all even nos from 1-20\n",
    "print(c)"
   ]
  },
  {
   "cell_type": "markdown",
   "id": "10e69fdd",
   "metadata": {},
   "source": [
    "## arr.reshape((rows,cols)) - used to reshape arrays"
   ]
  },
  {
   "cell_type": "code",
   "execution_count": 12,
   "id": "fb0db1f4",
   "metadata": {},
   "outputs": [
    {
     "name": "stdout",
     "output_type": "stream",
     "text": [
      "[[1 2 3]\n",
      " [4 5 6]\n",
      " [7 8 9]]\n",
      "[ 1  3  5  7  9 11 13 15 17 19 21 23 25 27 29 31 33 35 37 39 41 43 45 47\n",
      " 49 51 53 55 57 59 61 63 65 67 69 71 73 75 77 79 81 83 85 87 89 91 93 95\n",
      " 97 99]\n"
     ]
    },
    {
     "data": {
      "text/plain": [
       "array([[ 1,  3,  5,  7,  9],\n",
       "       [11, 13, 15, 17, 19],\n",
       "       [21, 23, 25, 27, 29],\n",
       "       [31, 33, 35, 37, 39],\n",
       "       [41, 43, 45, 47, 49],\n",
       "       [51, 53, 55, 57, 59],\n",
       "       [61, 63, 65, 67, 69],\n",
       "       [71, 73, 75, 77, 79],\n",
       "       [81, 83, 85, 87, 89],\n",
       "       [91, 93, 95, 97, 99]])"
      ]
     },
     "execution_count": 12,
     "metadata": {},
     "output_type": "execute_result"
    }
   ],
   "source": [
    "a = a.reshape(3,3)\n",
    "print(a)\n",
    "\n",
    "b = np.arange(1,100,2)\n",
    "print(b)\n",
    "\n",
    "b = b.reshape(10,5)\n",
    "b"
   ]
  },
  {
   "cell_type": "markdown",
   "id": "cba21d25",
   "metadata": {},
   "source": [
    "## arr.flatten() function - it flattens arrays to 1D arrays"
   ]
  },
  {
   "cell_type": "code",
   "execution_count": 13,
   "id": "0a3101b2",
   "metadata": {},
   "outputs": [
    {
     "data": {
      "text/plain": [
       "array([ 1,  3,  5,  7,  9, 11, 13, 15, 17, 19, 21, 23, 25, 27, 29, 31, 33,\n",
       "       35, 37, 39, 41, 43, 45, 47, 49, 51, 53, 55, 57, 59, 61, 63, 65, 67,\n",
       "       69, 71, 73, 75, 77, 79, 81, 83, 85, 87, 89, 91, 93, 95, 97, 99])"
      ]
     },
     "execution_count": 13,
     "metadata": {},
     "output_type": "execute_result"
    }
   ],
   "source": [
    "b = b.flatten()\n",
    "b"
   ]
  },
  {
   "cell_type": "markdown",
   "id": "d27c8062",
   "metadata": {},
   "source": [
    "## arr.ravel() function -  replaces the array to 1D equivalent ,its slower than flatten."
   ]
  },
  {
   "cell_type": "code",
   "execution_count": 14,
   "id": "0ed0a277",
   "metadata": {
    "scrolled": true
   },
   "outputs": [
    {
     "name": "stdout",
     "output_type": "stream",
     "text": [
      "[[ 1  3  5  7  9]\n",
      " [11 13 15 17 19]\n",
      " [21 23 25 27 29]\n",
      " [31 33 35 37 39]\n",
      " [41 43 45 47 49]\n",
      " [51 53 55 57 59]\n",
      " [61 63 65 67 69]\n",
      " [71 73 75 77 79]\n",
      " [81 83 85 87 89]\n",
      " [91 93 95 97 99]]\n"
     ]
    },
    {
     "data": {
      "text/plain": [
       "array([ 1,  3,  5,  7,  9, 11, 13, 15, 17, 19, 21, 23, 25, 27, 29, 31, 33,\n",
       "       35, 37, 39, 41, 43, 45, 47, 49, 51, 53, 55, 57, 59, 61, 63, 65, 67,\n",
       "       69, 71, 73, 75, 77, 79, 81, 83, 85, 87, 89, 91, 93, 95, 97, 99])"
      ]
     },
     "execution_count": 14,
     "metadata": {},
     "output_type": "execute_result"
    }
   ],
   "source": [
    "b = b.reshape(10,5)\n",
    "print(b)\n",
    "b = b.ravel()\n",
    "b"
   ]
  },
  {
   "cell_type": "markdown",
   "id": "6d6d4fec",
   "metadata": {},
   "source": [
    "## Array Slicing Operations"
   ]
  },
  {
   "cell_type": "code",
   "execution_count": 15,
   "id": "16f0a4c3",
   "metadata": {},
   "outputs": [
    {
     "data": {
      "text/plain": [
       "array([[ 1,  2,  3,  4,  5],\n",
       "       [ 6,  7,  8,  9, 10],\n",
       "       [11, 12, 13, 14, 15],\n",
       "       [16, 17, 18, 19, 20],\n",
       "       [21, 22, 23, 24, 25],\n",
       "       [26, 27, 28, 29, 30],\n",
       "       [31, 32, 33, 34, 35],\n",
       "       [36, 37, 38, 39, 40],\n",
       "       [41, 42, 43, 44, 45],\n",
       "       [46, 47, 48, 49, 50]])"
      ]
     },
     "execution_count": 15,
     "metadata": {},
     "output_type": "execute_result"
    }
   ],
   "source": [
    "a = np.arange(1,51)\n",
    "a = a.reshape(10,5)\n",
    "a"
   ]
  },
  {
   "cell_type": "code",
   "execution_count": 16,
   "id": "e6ff384b",
   "metadata": {
    "scrolled": true
   },
   "outputs": [
    {
     "name": "stdout",
     "output_type": "stream",
     "text": [
      "[1 2 3 4 5]\n",
      "14\n",
      "14\n",
      "[1 2 3 4 5] [ 6  7  8  9 10] [11 12 13 14 15] [16 17 18 19 20]\n",
      "[[ 1  2  3  4  5]\n",
      " [ 6  7  8  9 10]\n",
      " [11 12 13 14 15]\n",
      " [16 17 18 19 20]]\n",
      "[[ 1  2  3  4  5]\n",
      " [ 6  7  8  9 10]\n",
      " [11 12 13 14 15]\n",
      " [16 17 18 19 20]\n",
      " [21 22 23 24 25]\n",
      " [26 27 28 29 30]\n",
      " [31 32 33 34 35]\n",
      " [36 37 38 39 40]\n",
      " [41 42 43 44 45]\n",
      " [46 47 48 49 50]]\n",
      "[ 3  8 13 18 23 28 33 38 43 48]\n",
      "[14 19 24]\n",
      "[[ 1  2  3  4  5]\n",
      " [ 6  7  8  9 10]\n",
      " [11 12 13 14 15]\n",
      " [16 17 18 19 20]\n",
      " [21 22 23 24 25]\n",
      " [26 27 28 29 30]\n",
      " [31 32 33 34 35]\n",
      " [36 37 38 39 40]\n",
      " [41 42 43 44 45]\n",
      " [46 47 48 49 50]]\n"
     ]
    }
   ],
   "source": [
    "print(a[0]) # only 0th row\n",
    "print(a[2][3])  #4th element of 3rd row\n",
    "print(a[2,3])  #4th element of 3rd row\n",
    "print(a[0],a[1],a[2],a[3]) \n",
    "print(a[0:4]) # prints the a[start : end] rows\n",
    "print(a[:])  # prints all rows\n",
    "print(a[:,2]) #prints the a[start : end, column] values i.e 3rd column of all rows.\n",
    "print(a[2:5,3]) # prints 4th column of 2-5 rows\n",
    "print(a[:, :]) # prints all rows all columns"
   ]
  },
  {
   "cell_type": "markdown",
   "id": "7a0fb34c",
   "metadata": {},
   "source": [
    "## Mathematical Operations"
   ]
  },
  {
   "cell_type": "code",
   "execution_count": 17,
   "id": "6236e371",
   "metadata": {},
   "outputs": [
    {
     "name": "stdout",
     "output_type": "stream",
     "text": [
      "[[ 0  1  2]\n",
      " [ 3  4  5]\n",
      " [ 6  7  8]\n",
      " [ 9 10 11]\n",
      " [12 13 14]\n",
      " [15 16 17]]\n",
      "[[20 21 22]\n",
      " [23 24 25]\n",
      " [26 27 28]\n",
      " [29 30 31]\n",
      " [32 33 34]\n",
      " [35 36 37]]\n"
     ]
    }
   ],
   "source": [
    "a = np.arange(0,18).reshape((6,3))\n",
    "b = np.arange(20,38).reshape((6,3))\n",
    "print(a)\n",
    "print(b)"
   ]
  },
  {
   "cell_type": "code",
   "execution_count": 18,
   "id": "681c29a5",
   "metadata": {},
   "outputs": [
    {
     "name": "stdout",
     "output_type": "stream",
     "text": [
      "[[20 22 24]\n",
      " [26 28 30]\n",
      " [32 34 36]\n",
      " [38 40 42]\n",
      " [44 46 48]\n",
      " [50 52 54]]\n"
     ]
    },
    {
     "data": {
      "text/plain": [
       "array([[20, 22, 24],\n",
       "       [26, 28, 30],\n",
       "       [32, 34, 36],\n",
       "       [38, 40, 42],\n",
       "       [44, 46, 48],\n",
       "       [50, 52, 54]])"
      ]
     },
     "execution_count": 18,
     "metadata": {},
     "output_type": "execute_result"
    }
   ],
   "source": [
    "print(a+b)\n",
    "np.add(a,b)"
   ]
  },
  {
   "cell_type": "code",
   "execution_count": 19,
   "id": "56d6a00c",
   "metadata": {
    "scrolled": true
   },
   "outputs": [
    {
     "name": "stdout",
     "output_type": "stream",
     "text": [
      "[[-20 -20 -20]\n",
      " [-20 -20 -20]\n",
      " [-20 -20 -20]\n",
      " [-20 -20 -20]\n",
      " [-20 -20 -20]\n",
      " [-20 -20 -20]]\n"
     ]
    },
    {
     "data": {
      "text/plain": [
       "array([[-20, -20, -20],\n",
       "       [-20, -20, -20],\n",
       "       [-20, -20, -20],\n",
       "       [-20, -20, -20],\n",
       "       [-20, -20, -20],\n",
       "       [-20, -20, -20]])"
      ]
     },
     "execution_count": 19,
     "metadata": {},
     "output_type": "execute_result"
    }
   ],
   "source": [
    "print(a-b)\n",
    "np.subtract(a,b)"
   ]
  },
  {
   "cell_type": "code",
   "execution_count": 20,
   "id": "88655fc2",
   "metadata": {},
   "outputs": [
    {
     "name": "stdout",
     "output_type": "stream",
     "text": [
      "[[  0  21  44]\n",
      " [ 69  96 125]\n",
      " [156 189 224]\n",
      " [261 300 341]\n",
      " [384 429 476]\n",
      " [525 576 629]]\n"
     ]
    },
    {
     "data": {
      "text/plain": [
       "array([[  0,  21,  44],\n",
       "       [ 69,  96, 125],\n",
       "       [156, 189, 224],\n",
       "       [261, 300, 341],\n",
       "       [384, 429, 476],\n",
       "       [525, 576, 629]])"
      ]
     },
     "execution_count": 20,
     "metadata": {},
     "output_type": "execute_result"
    }
   ],
   "source": [
    "print(a*b)\n",
    "np.multiply(a,b) # its not matrix multiplication"
   ]
  },
  {
   "cell_type": "code",
   "execution_count": 21,
   "id": "9b3d9a3c",
   "metadata": {},
   "outputs": [
    {
     "name": "stdout",
     "output_type": "stream",
     "text": [
      "[[0.         0.04761905 0.09090909]\n",
      " [0.13043478 0.16666667 0.2       ]\n",
      " [0.23076923 0.25925926 0.28571429]\n",
      " [0.31034483 0.33333333 0.35483871]\n",
      " [0.375      0.39393939 0.41176471]\n",
      " [0.42857143 0.44444444 0.45945946]]\n"
     ]
    },
    {
     "data": {
      "text/plain": [
       "array([[0.        , 0.04761905, 0.09090909],\n",
       "       [0.13043478, 0.16666667, 0.2       ],\n",
       "       [0.23076923, 0.25925926, 0.28571429],\n",
       "       [0.31034483, 0.33333333, 0.35483871],\n",
       "       [0.375     , 0.39393939, 0.41176471],\n",
       "       [0.42857143, 0.44444444, 0.45945946]])"
      ]
     },
     "execution_count": 21,
     "metadata": {},
     "output_type": "execute_result"
    }
   ],
   "source": [
    "print(a/b)\n",
    "np.divide(a,b)"
   ]
  },
  {
   "cell_type": "code",
   "execution_count": 22,
   "id": "a09e3944",
   "metadata": {
    "scrolled": true
   },
   "outputs": [
    {
     "name": "stdout",
     "output_type": "stream",
     "text": [
      "[[  90   93   96   99  102  105]\n",
      " [ 324  336  348  360  372  384]\n",
      " [ 558  579  600  621  642  663]\n",
      " [ 792  822  852  882  912  942]\n",
      " [1026 1065 1104 1143 1182 1221]\n",
      " [1260 1308 1356 1404 1452 1500]]\n"
     ]
    },
    {
     "data": {
      "text/plain": [
       "array([[  90,   93,   96,   99,  102,  105],\n",
       "       [ 324,  336,  348,  360,  372,  384],\n",
       "       [ 558,  579,  600,  621,  642,  663],\n",
       "       [ 792,  822,  852,  882,  912,  942],\n",
       "       [1026, 1065, 1104, 1143, 1182, 1221],\n",
       "       [1260, 1308, 1356, 1404, 1452, 1500]])"
      ]
     },
     "execution_count": 22,
     "metadata": {},
     "output_type": "execute_result"
    }
   ],
   "source": [
    "#matrix Multiplication using : array1@array2 & array1.dot(array2)\n",
    "b = b.reshape(3,6)\n",
    "print(a@b)\n",
    "a.dot(b)"
   ]
  },
  {
   "cell_type": "code",
   "execution_count": 23,
   "id": "6dc28dc4",
   "metadata": {},
   "outputs": [
    {
     "name": "stdout",
     "output_type": "stream",
     "text": [
      "0\n",
      "17\n",
      "17\n",
      "0\n",
      "20\n",
      "37\n",
      "17\n",
      "0\n"
     ]
    }
   ],
   "source": [
    "#Maximum(array.min()) and minimum(array.min()) and thier indexes (array.argmin(),array.argmax())\n",
    "print(a.min())\n",
    "print(a.max())\n",
    "print(a.argmax())\n",
    "print(a.argmin())\n",
    "\n",
    "print(b.min())\n",
    "print(b.max())\n",
    "print(b.argmax())\n",
    "print(b.argmin())"
   ]
  },
  {
   "cell_type": "code",
   "execution_count": 24,
   "id": "9ab52331",
   "metadata": {},
   "outputs": [
    {
     "data": {
      "text/plain": [
       "513"
      ]
     },
     "execution_count": 24,
     "metadata": {},
     "output_type": "execute_result"
    }
   ],
   "source": [
    "# sum of all the elements \n",
    "np.sum(b)"
   ]
  },
  {
   "cell_type": "code",
   "execution_count": 25,
   "id": "c9ee87de",
   "metadata": {},
   "outputs": [
    {
     "name": "stdout",
     "output_type": "stream",
     "text": [
      "[135 171 207]\n",
      "[78 81 84 87 90 93]\n"
     ]
    }
   ],
   "source": [
    "# Sum along axis(rows,cols)\n",
    "q = np.sum(b,axis = 1 ) # along rows\n",
    "print(q)\n",
    "r = np.sum(b,axis = 0 ) # along cols\n",
    "print(r)"
   ]
  },
  {
   "cell_type": "code",
   "execution_count": 26,
   "id": "0335ac39",
   "metadata": {},
   "outputs": [
    {
     "data": {
      "text/plain": [
       "28.5"
      ]
     },
     "execution_count": 26,
     "metadata": {},
     "output_type": "execute_result"
    }
   ],
   "source": [
    "# mean of every element\n",
    "np.mean(b)"
   ]
  },
  {
   "cell_type": "code",
   "execution_count": 27,
   "id": "0070b7b5",
   "metadata": {},
   "outputs": [
    {
     "data": {
      "text/plain": [
       "array([[4.47213595, 4.58257569, 4.69041576, 4.79583152, 4.89897949,\n",
       "        5.        ],\n",
       "       [5.09901951, 5.19615242, 5.29150262, 5.38516481, 5.47722558,\n",
       "        5.56776436],\n",
       "       [5.65685425, 5.74456265, 5.83095189, 5.91607978, 6.        ,\n",
       "        6.08276253]])"
      ]
     },
     "execution_count": 27,
     "metadata": {},
     "output_type": "execute_result"
    }
   ],
   "source": [
    "# square root of every element\n",
    "np.sqrt(b)"
   ]
  },
  {
   "cell_type": "code",
   "execution_count": 28,
   "id": "3372ab65",
   "metadata": {},
   "outputs": [
    {
     "data": {
      "text/plain": [
       "5.188127472091127"
      ]
     },
     "execution_count": 28,
     "metadata": {},
     "output_type": "execute_result"
    }
   ],
   "source": [
    "# standard deviation of array\n",
    "np.std(b)"
   ]
  },
  {
   "cell_type": "code",
   "execution_count": 29,
   "id": "4b601342",
   "metadata": {
    "scrolled": true
   },
   "outputs": [
    {
     "data": {
      "text/plain": [
       "array([[2.99573227, 3.04452244, 3.09104245, 3.13549422, 3.17805383,\n",
       "        3.21887582],\n",
       "       [3.25809654, 3.29583687, 3.33220451, 3.36729583, 3.40119738,\n",
       "        3.4339872 ],\n",
       "       [3.4657359 , 3.49650756, 3.52636052, 3.55534806, 3.58351894,\n",
       "        3.61091791]])"
      ]
     },
     "execution_count": 29,
     "metadata": {},
     "output_type": "execute_result"
    }
   ],
   "source": [
    "# log of all elements in array\n",
    "np.log(b)"
   ]
  },
  {
   "cell_type": "markdown",
   "id": "7f2519ed",
   "metadata": {},
   "source": [
    "## Trignometric Functions"
   ]
  },
  {
   "cell_type": "code",
   "execution_count": 30,
   "id": "d44f5688",
   "metadata": {},
   "outputs": [],
   "source": [
    "import matplotlib.pyplot as plt\n",
    "import numpy as np"
   ]
  },
  {
   "cell_type": "code",
   "execution_count": 31,
   "id": "2822ea0b",
   "metadata": {},
   "outputs": [
    {
     "data": {
      "text/plain": [
       "3.141592653589793"
      ]
     },
     "execution_count": 31,
     "metadata": {},
     "output_type": "execute_result"
    }
   ],
   "source": [
    "np.pi"
   ]
  },
  {
   "cell_type": "code",
   "execution_count": 32,
   "id": "affbdbe9",
   "metadata": {},
   "outputs": [
    {
     "name": "stdout",
     "output_type": "stream",
     "text": [
      "1.0\n",
      "0.49999999999999994\n"
     ]
    }
   ],
   "source": [
    "#finding Sin of angle\n",
    "a = np.sin(np.pi/2) #np.pi/2 = 90 degrees\n",
    "print(a)\n",
    "a = np.sin(np.pi/6) # for 30 degrees\n",
    "print(a)"
   ]
  },
  {
   "cell_type": "code",
   "execution_count": 33,
   "id": "cef133ca",
   "metadata": {
    "scrolled": false
   },
   "outputs": [
    {
     "data": {
      "image/png": "[encoded data removed]",
      "text/plain": [
       "<Figure size 500x500 with 1 Axes>"
      ]
     },
     "metadata": {},
     "output_type": "display_data"
    }
   ],
   "source": [
    "#plotting line in matplotlib\n",
    "x = np.arange(1,11)\n",
    "y = np.arange(10,110,10)\n",
    "\n",
    "plt.figure(figsize = (5,5))\n",
    "plt.plot(x,y, 'r--')\n",
    "plt.show()"
   ]
  },
  {
   "cell_type": "code",
   "execution_count": 34,
   "id": "1b93ff09",
   "metadata": {},
   "outputs": [
    {
     "name": "stdout",
     "output_type": "stream",
     "text": [
      "[ 0.          0.09983342  0.19866933  0.29552021  0.38941834  0.47942554\n",
      "  0.56464247  0.64421769  0.71735609  0.78332691  0.84147098  0.89120736\n",
      "  0.93203909  0.96355819  0.98544973  0.99749499  0.9995736   0.99166481\n",
      "  0.97384763  0.94630009  0.90929743  0.86320937  0.8084964   0.74570521\n",
      "  0.67546318  0.59847214  0.51550137  0.42737988  0.33498815  0.23924933\n",
      "  0.14112001  0.04158066 -0.05837414 -0.15774569 -0.2555411  -0.35078323\n",
      " -0.44252044 -0.52983614 -0.61185789 -0.68776616 -0.7568025  -0.81827711\n",
      " -0.87157577 -0.91616594 -0.95160207 -0.97753012 -0.993691   -0.99992326\n",
      " -0.99616461 -0.98245261 -0.95892427 -0.92581468 -0.88345466 -0.83226744\n",
      " -0.77276449 -0.70554033 -0.63126664 -0.55068554 -0.46460218 -0.37387666\n",
      " -0.2794155  -0.1821625  -0.0830894   0.0168139   0.1165492   0.21511999\n",
      "  0.31154136  0.40484992  0.49411335  0.57843976  0.6569866   0.72896904\n",
      "  0.79366786  0.85043662  0.8987081   0.93799998  0.96791967  0.98816823\n",
      "  0.99854335  0.99894134  0.98935825  0.96988981  0.94073056  0.90217183\n",
      "  0.85459891  0.79848711  0.7343971   0.66296923  0.58491719  0.50102086\n",
      "  0.41211849  0.31909836  0.22288991  0.12445442  0.02477543 -0.07515112\n",
      " -0.17432678 -0.27176063 -0.36647913 -0.45753589 -0.54402111 -0.62507065\n",
      " -0.69987469 -0.76768581 -0.82782647 -0.87969576 -0.92277542 -0.95663502\n",
      " -0.98093623 -0.99543625 -0.99999021 -0.99455259 -0.97917773 -0.95401925\n",
      " -0.91932853 -0.87545217 -0.82282859 -0.76198358 -0.69352508 -0.61813711\n",
      " -0.53657292 -0.44964746 -0.35822928 -0.26323179 -0.16560418 -0.0663219\n",
      "  0.03362305  0.13323204  0.23150983  0.32747444  0.42016704  0.50866146\n",
      "  0.59207351  0.66956976  0.74037589  0.80378443  0.85916181  0.90595474\n",
      "  0.94369567  0.9720075   0.99060736  0.99930939  0.99802665  0.98677196\n",
      "  0.96565778  0.93489506  0.89479117  0.84574683  0.78825207  0.72288135\n",
      "  0.65028784  0.57119687  0.48639869  0.39674057  0.30311836  0.20646748\n",
      "  0.10775365  0.00796318 -0.09190685 -0.19085858 -0.28790332 -0.38207142\n",
      " -0.47242199 -0.55805227 -0.63810668 -0.71178534 -0.77835208 -0.83714178\n",
      " -0.88756703 -0.92912401 -0.96139749 -0.98406501 -0.99690007 -0.99977443\n",
      " -0.99265938 -0.97562601 -0.9488445  -0.91258245 -0.86720218 -0.81315711\n",
      " -0.75098725 -0.68131377 -0.60483282 -0.52230859 -0.43456562 -0.34248062\n",
      " -0.24697366 -0.14899903 -0.04953564  0.05042269  0.14987721  0.24783421\n",
      "  0.34331493  0.43536536  0.52306577  0.60553987  0.68196362  0.75157342\n",
      "  0.81367374  0.8676441   0.91294525  0.94912455  0.97582052  0.99276641\n",
      "  0.9997929   0.99682979  0.98390669  0.96115272  0.92879523  0.88715753\n",
      "  0.83665564  0.77779416  0.71116122  0.6374226   0.55731505  0.471639\n",
      "  0.38125049  0.28705265  0.18998668  0.09102242 -0.00885131 -0.1086366\n",
      " -0.20733642 -0.30396461 -0.39755568 -0.48717451 -0.57192566 -0.65096231\n",
      " -0.72349476 -0.78879829 -0.8462204  -0.89518737 -0.93520992 -0.96588815\n",
      " -0.98691556 -0.99808203 -0.99927599 -0.99048552 -0.97179845 -0.94340148\n",
      " -0.90557836 -0.858707   -0.80325573 -0.73977859 -0.66890982 -0.59135753\n",
      " -0.50789659 -0.41936092 -0.32663513 -0.23064571 -0.13235175 -0.03273538\n",
      "  0.06720807  0.16648     0.26408852  0.35905835  0.45044059  0.53732218\n",
      "  0.61883502  0.69416467  0.76255845  0.823333    0.87588108  0.91967764\n",
      "  0.95428509  0.97935764  0.99464477  0.99999374  0.9953511   0.98076325\n",
      "  0.95637593  0.92243282  0.87927306  0.8273279   0.76711635  0.69924003\n",
      "  0.62437714  0.54327567  0.45674597  0.36565262  0.27090579  0.17345216\n",
      "  0.07426545 -0.0256633  -0.12533563 -0.22375564 -0.31993996 -0.41292755\n",
      " -0.5017893  -0.58563734 -0.66363388 -0.73499962 -0.79902148 -0.85505978\n",
      " -0.90255461 -0.94103141 -0.97010573 -0.98948708 -0.9989818  -0.99849503\n",
      " -0.98803162 -0.96769613 -0.93769174 -0.89831824 -0.84996905 -0.79312724\n",
      " -0.72836077 -0.65631676 -0.57771504 -0.49334099 -0.40403765 -0.31069729\n",
      " -0.21425254 -0.11566705 -0.01592586]\n"
     ]
    }
   ],
   "source": [
    "# ploting trig functons with numpy using matplotlib\n",
    "x_sin = np.arange(0,10*np.pi,0.1)\n",
    "y_sin = np.sin(x_sin)\n",
    "print(y_sin)"
   ]
  },
  {
   "cell_type": "code",
   "execution_count": 35,
   "id": "83f7b63f",
   "metadata": {
    "scrolled": true
   },
   "outputs": [
    {
     "data": {
      "image/png": "[encoded data removed]",
      "text/plain": [
       "<Figure size 800x400 with 1 Axes>"
      ]
     },
     "metadata": {},
     "output_type": "display_data"
    }
   ],
   "source": [
    "plt.figure(figsize = (8,4))\n",
    "plt.plot(x_sin,y_sin)\n",
    "plt.title(\"Sin Curve\")\n",
    "plt.show()"
   ]
  },
  {
   "cell_type": "code",
   "execution_count": 36,
   "id": "a615bb48",
   "metadata": {},
   "outputs": [
    {
     "data": {
      "image/png": "[encoded data removed]",
      "text/plain": [
       "<Figure size 800x400 with 1 Axes>"
      ]
     },
     "metadata": {},
     "output_type": "display_data"
    }
   ],
   "source": [
    "#Printing Cos curve\n",
    "y_cos = np.cos(x_sin)\n",
    "\n",
    "plt.figure(figsize = (8,4))\n",
    "plt.plot(x_sin,y_cos)\n",
    "plt.title(\"Cos Curve\")\n",
    "plt.show()"
   ]
  },
  {
   "cell_type": "code",
   "execution_count": 37,
   "id": "2b57b732",
   "metadata": {
    "scrolled": true
   },
   "outputs": [
    {
     "data": {
      "image/png": "[encoded data removed]",
      "text/plain": [
       "<Figure size 800x400 with 1 Axes>"
      ]
     },
     "metadata": {},
     "output_type": "display_data"
    }
   ],
   "source": [
    "# Plotting Tan curve\n",
    "y_tan = np.tan(x_sin)\n",
    "\n",
    "plt.figure(figsize = (8,4))\n",
    "plt.plot(x_sin,y_tan)\n",
    "plt.title(\"Tan Curve\")\n",
    "plt.show()"
   ]
  },
  {
   "cell_type": "code",
   "execution_count": 44,
   "id": "9d4d9f4f",
   "metadata": {
    "scrolled": false
   },
   "outputs": [
    {
     "name": "stderr",
     "output_type": "stream",
     "text": [
      "C:\\Users\\MAYBORG\\AppData\\Local\\Temp\\ipykernel_15396\\4256065555.py:17: RuntimeWarning: divide by zero encountered in divide\n",
      "  y_cot = 1/(np.tan(x_sin))# to obtain cot values as cot =1/tan\n"
     ]
    },
    {
     "data": {
      "image/png": "[encoded data removed]",
      "text/plain": [
       "<Figure size 500x500 with 4 Axes>"
      ]
     },
     "metadata": {},
     "output_type": "display_data"
    }
   ],
   "source": [
    "# Subplot to plot all curves on same graph-canvas\n",
    "plt.figure(figsize = (5,5))\n",
    "\n",
    "\n",
    "plt.subplot(2,2,1)\n",
    "plt.plot(x_sin,y_sin,'r-')\n",
    "plt.title(\"Sin Curve\")\n",
    "\n",
    "plt.subplot(2,2,2)\n",
    "plt.plot(x_sin,y_cos,'g-')\n",
    "plt.title(\"Cos Curve\")\n",
    "\n",
    "plt.subplot(2,2,3)\n",
    "plt.plot(x_sin,y_tan,'b-')\n",
    "plt.title(\"Tan Curve\")\n",
    "\n",
    "y_cot = 1/(np.tan(x_sin))# to obtain cot values as cot =1/tan\n",
    "plt.subplot(2,2,4)\n",
    "plt.plot(x_sin,y_cot,'p-')\n",
    "plt.title(\"Cot Curve\")\n",
    "\n",
    "plt.show()"
   ]
  },
  {
   "cell_type": "markdown",
   "id": "799123c3",
   "metadata": {},
   "source": [
    "## random() function of Numpy"
   ]
  },
  {
   "cell_type": "code",
   "execution_count": 51,
   "id": "dbb7d369",
   "metadata": {},
   "outputs": [
    {
     "name": "stdout",
     "output_type": "stream",
     "text": [
      "[0.3112838]\n",
      "[0.31288277 0.92757783]\n",
      "[[0.47673981 0.17418418]\n",
      " [0.26253432 0.36486449]]\n"
     ]
    }
   ],
   "source": [
    "a = np.random.random(1)\n",
    "print(a)\n",
    "a = np.random.random(2)\n",
    "print(a)\n",
    "a = np.random.random((2,2))\n",
    "print(a)"
   ]
  },
  {
   "cell_type": "code",
   "execution_count": 53,
   "id": "daa8aef1",
   "metadata": {},
   "outputs": [
    {
     "name": "stdout",
     "output_type": "stream",
     "text": [
      "5\n"
     ]
    }
   ],
   "source": [
    "# prints random values between given range using randint()\n",
    "a = np.random.randint(1,10) # 1-10\n",
    "print(a)"
   ]
  },
  {
   "cell_type": "code",
   "execution_count": 55,
   "id": "6016e0a4",
   "metadata": {},
   "outputs": [
    {
     "name": "stdout",
     "output_type": "stream",
     "text": [
      "[[8 1]\n",
      " [2 7]]\n"
     ]
    }
   ],
   "source": [
    "# 2D array of randomly generated no's between 1-10\n",
    "a = np.random.randint(1,10 ,(2,2))\n",
    "print(a)"
   ]
  },
  {
   "cell_type": "code",
   "execution_count": 57,
   "id": "f135cd2c",
   "metadata": {},
   "outputs": [
    {
     "name": "stdout",
     "output_type": "stream",
     "text": [
      "[[[1 3]\n",
      "  [7 9]]\n",
      "\n",
      " [[5 6]\n",
      "  [9 4]]\n",
      "\n",
      " [[5 1]\n",
      "  [3 3]]]\n"
     ]
    }
   ],
   "source": [
    "# 3D array of randomly generated no's between 1-10\n",
    "a = np.random.randint(1,10 ,(3,2,2))\n",
    "print(a)"
   ]
  },
  {
   "cell_type": "code",
   "execution_count": 63,
   "id": "8db0aba9",
   "metadata": {},
   "outputs": [
    {
     "name": "stdout",
     "output_type": "stream",
     "text": [
      "[[0.63514619 0.82832685 0.16664895]\n",
      " [0.23311898 0.44158439 0.50815227]\n",
      " [0.06624682 0.47688888 0.61867671]]\n"
     ]
    }
   ],
   "source": [
    "# printing float between given range\n",
    "a = np.random.rand(3,3)\n",
    "print(a)"
   ]
  },
  {
   "cell_type": "code",
   "execution_count": 64,
   "id": "62956904",
   "metadata": {
    "scrolled": true
   },
   "outputs": [
    {
     "name": "stdout",
     "output_type": "stream",
     "text": [
      "[[-0.76527497 -0.18723459 -0.28649549]\n",
      " [ 1.47948578  1.00844641 -0.8477789 ]\n",
      " [-0.25089577 -0.04213985 -1.57782515]]\n"
     ]
    }
   ],
   "source": [
    "a = np.random.randn(3,3) # includes the negatives also\n",
    "print(a)"
   ]
  },
  {
   "cell_type": "code",
   "execution_count": 69,
   "id": "8c1d966c",
   "metadata": {},
   "outputs": [
    {
     "name": "stdout",
     "output_type": "stream",
     "text": [
      "[ 0  2  4  6  8 10 12 14 16 18 20 22 24 26 28 30 32 34 36 38 40]\n",
      "8\n"
     ]
    }
   ],
   "source": [
    "# choice() function of random() method.\n",
    "a = np.arange(0,41,2)\n",
    "print(a)\n",
    "\n",
    "print(np.random.choice(a)) #picks the random element from the given array"
   ]
  },
  {
   "cell_type": "markdown",
   "id": "e330c3f5",
   "metadata": {},
   "source": [
    "## Playing With Strings"
   ]
  },
  {
   "cell_type": "code",
   "execution_count": 77,
   "id": "cde12006",
   "metadata": {},
   "outputs": [
    {
     "name": "stdout",
     "output_type": "stream",
     "text": [
      "Myself, Mayur Borgude,Iam a Maharastrian\n",
      "Myself, Mayur BorgudeIam a Maharastrian\n",
      "Myself, Mayur Borgude,Iam a Maharastrian\n"
     ]
    }
   ],
   "source": [
    "s1 = \"Myself, Mayur Borgude\"\n",
    "s2 = \"Iam a Maharastrian\"\n",
    "\n",
    "print(s1+\",\"+ s2)\n",
    "print(np.char.add(s1,s2)) \n",
    "print(np.char.add(s1+\",\",s2)) # concatenates the strings"
   ]
  },
  {
   "cell_type": "code",
   "execution_count": 79,
   "id": "3a26faed",
   "metadata": {},
   "outputs": [
    {
     "name": "stdout",
     "output_type": "stream",
     "text": [
      "MYSELF, MAYUR BORGUDE\n",
      "iam a maharastrian\n"
     ]
    }
   ],
   "source": [
    "# Upper and Lower Cases\n",
    "print(np.char.upper(s1))\n",
    "print(np.char.lower(s2))"
   ]
  },
  {
   "cell_type": "code",
   "execution_count": 80,
   "id": "1e563aed",
   "metadata": {},
   "outputs": [
    {
     "name": "stdout",
     "output_type": "stream",
     "text": [
      "['Myself,', 'Mayur', 'Borgude']\n"
     ]
    }
   ],
   "source": [
    "# split at space\n",
    "print(np.char.split(s1))"
   ]
  },
  {
   "cell_type": "code",
   "execution_count": 84,
   "id": "059160c8",
   "metadata": {},
   "outputs": [
    {
     "name": "stdout",
     "output_type": "stream",
     "text": [
      "['Myself, Mayur Borgude ', ' Iam a Maharastrian']\n"
     ]
    }
   ],
   "source": [
    "#spliting at new line\n",
    "s3 = \"Myself, Mayur Borgude \\n Iam a Maharastrian\"\n",
    "print(np.char.splitlines(s3))"
   ]
  },
  {
   "cell_type": "code",
   "execution_count": 89,
   "id": "85fe9219",
   "metadata": {},
   "outputs": [
    {
     "name": "stdout",
     "output_type": "stream",
     "text": [
      "Myself, Mayur Borgude and Iam a Maharastrian\n"
     ]
    }
   ],
   "source": [
    "#replacing in strings\n",
    "print(np.char.replace(s3,\"\\n\",\"and\")) #replaces \"\\n\" with \"and\""
   ]
  },
  {
   "cell_type": "code",
   "execution_count": 93,
   "id": "8472cb37",
   "metadata": {},
   "outputs": [
    {
     "name": "stdout",
     "output_type": "stream",
     "text": [
      "**********good bye**********\n",
      "****************good bye****************\n"
     ]
    }
   ],
   "source": [
    "print(\"**********good bye**********\")\n",
    "print(np.char.center(\"good bye\",40,\"*\")) #places the first arg in center and consumes the remaining number from the 2nd arg with the 3rd arg."
   ]
  }
 ],
 "metadata": {
  "kernelspec": {
   "display_name": "Python 3 (ipykernel)",
   "language": "python",
   "name": "python3"
  },
  "language_info": {
   "codemirror_mode": {
    "name": "ipython",
    "version": 3
   },
   "file_extension": ".py",
   "mimetype": "text/x-python",
   "name": "python",
   "nbconvert_exporter": "python",
   "pygments_lexer": "ipython3",
   "version": "3.11.5"
  }
 },
 "nbformat": 4,
 "nbformat_minor": 5
}
