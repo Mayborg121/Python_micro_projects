{
 "cells": [
  {
   "cell_type": "markdown",
   "id": "b30dbe99",
   "metadata": {},
   "source": [
    "# np.result_type(Object_name)\n",
    "### for checking the data type of a particular object."
   ]
  },
  {
   "cell_type": "code",
   "execution_count": null,
   "id": "8844aeb2",
   "metadata": {
    "scrolled": true
   },
   "outputs": [],
   "source": [
    "import numpy as np\n",
    "lst = [10, 20, 30, 40] \n",
    "arr = np.array(lst,)\n",
    "print(arr)\n",
    "# [2 5 6 8]\n",
    "print(type(arr))\n",
    "# class 'numpy.ndarray'\n",
    "print(np.result_type(arr))\n",
    "# int32  ,"
   ]
  },
  {
   "cell_type": "markdown",
   "id": "e5ba9aea",
   "metadata": {},
   "source": [
    "# arange(from, to, interval, datatype) \n",
    "#### gives uncertain number of values based on steps\n",
    "# linspace(from, to, no_of_values , datatype)\n",
    "#### Hence, we use linspace, which asks for total number of values\n"
   ]
  },
  {
   "cell_type": "code",
   "execution_count": 11,
   "id": "2b8ad4cd",
   "metadata": {},
   "outputs": [
    {
     "name": "stdout",
     "output_type": "stream",
     "text": [
      "[0.   1.33 2.66 3.99 5.32 6.65 7.98 9.31]\n",
      "<class 'numpy.ndarray'>\n",
      "float64\n",
      "[  0.  40.  80. 120. 160.]\n"
     ]
    }
   ],
   "source": [
    "\n",
    "''' Creation of an array with step size 1.33 between 0 - 10 '''\n",
    "arr2 = np.arange(0, 10, 1.33, dtype = np.float64)\n",
    "print(arr2)\n",
    "print(type(arr2))\n",
    "print(np.result_type(arr2))\n",
    "# [0.   1.33 2.66 3.99 5.32 6.65 7.98 9.31]\n",
    "# <class 'numpy.ndarray'>\n",
    "# float64\n",
    "\n",
    "'''Creation of an array with total 5 values from 0-160'''\n",
    "print(np.linspace(0, 160, 5, dtype = np.float64))\n",
    "#[  0.  40.  80. 120. 160.]"
   ]
  },
  {
   "cell_type": "markdown",
   "id": "4915ca98",
   "metadata": {},
   "source": [
    "# Generating Matrices in NumPy"
   ]
  },
  {
   "cell_type": "code",
   "execution_count": null,
   "id": "7921d9ca",
   "metadata": {
    "scrolled": true
   },
   "outputs": [],
   "source": [
    "''' Method I: Using array and reshape to convert array into matrix '''\n",
    "print(np.array([5,6,8,45,12,52]).reshape(3,2),\"\\n\")\n",
    "print(np.array([2,3,4,5,6,7,8,9,0,1]).reshape(2,5),\"\\n\\n\") #My example\n",
    "# [[ 5  6  8]\n",
    "#  [45 12 52]]\n",
    "\n",
    "\n",
    "''' Method II: Using matrix function '''\n",
    "print(np.matrix([[1,2],\n",
    "                [3,4]]),\"\\n\")\n",
    "\n",
    "print(np.matrix([[1,1,1],[2,2,2],[3,3,3]]),\"\\n\\n\")  #my example\n",
    "# [[1 2]\n",
    "#  [3 4]]\n",
    "\n",
    "\n",
    "''' Method III: Using misc. functions '''\n",
    "print(np.eye(3),\"\\n\") # Identity matrix\n",
    "print(np.eye(4),\"\\n\\n\") #my example\n",
    "\n",
    "print( np.zeros( (4,3) ),\"\\n\" )\n",
    "print( np.zeros( (4,4)), \"\\n\\n\") #my example\n",
    "\n",
    "print(np.ones( (3,3), dtype = np.float64 ),\"\\n\")\n",
    "matrix1 = np.ones( (4,4)) # my example no dtype is asigned ....\n",
    "print(matrix1,\"\\n\",np.result_type(matrix1))\n"
   ]
  },
  {
   "cell_type": "markdown",
   "id": "9be65d4a",
   "metadata": {},
   "source": [
    "Problem Statement:\n",
    "Given two NumPy arrays arr1 = [25, 56, 12, 85, 34, 75] and arr2 = [42, 3, 86, 32, 856, 46], solve the following:\n",
    "\n",
    "Create a new NumPy array Narr with the shape equal to arr1 filled with random values.\n",
    "\n",
    "Permanently change the dtype of arr1 to complex.\n",
    "\n",
    "Transform arrays arr1 and arr2 into two matrices (arr1_mat and arr2_mat) of shape (2,3) and arrive at the solution of the following equation: [(arr1_mat)^2 - (arr2_mat)^2] / [(arr1_mat)-(arr2_mat)]\n",
    "\n"
   ]
  },
  {
   "cell_type": "markdown",
   "id": "25c98c7d",
   "metadata": {},
   "source": [
    "### numpy.square() - used to square a value/list/array\n",
    "### numpy.random.rand() - used to generate random no.\n",
    "### complex (x) for x in list - used to typecast array into complexNo.\n",
    "### astype() - to typecast an array to another datatype"
   ]
  },
  {
   "cell_type": "code",
   "execution_count": null,
   "id": "121033bc",
   "metadata": {
    "scrolled": true
   },
   "outputs": [],
   "source": [
    "import numpy as np\n",
    "arr1 = np.array([25, 56, 12, 85, 34, 75])\n",
    "arr2 = np.array([42, 3, 86, 32, 856, 46])\n",
    "\n",
    "Narr = np.linspace(np.random.rand(),np.random.rand(),6,dtype= np.float32)\n",
    "arr1 = arr1.astype(complex)\n",
    "\n",
    "arr1_mat = np.array(arr1).reshape(2,3)\n",
    "arr2_mat = np.array(arr2).reshape(2,3)\n",
    "\n",
    "print(Narr,\"\\n\",arr1,\"\\n\",np.result_type(arr1)) #checking if the values have changed \n",
    "print(\"\\n\",arr1_mat,\"\\n\",arr2_mat,\"\\n\\n\") #checking the matrix conversion\n",
    "\n",
    "solution = (np.square(arr1_mat) - np.square(arr2_mat)) / (arr1_mat - arr2_mat)\n",
    "\n",
    "print(\"Solution : \", solution)"
   ]
  },
  {
   "cell_type": "code",
   "execution_count": null,
   "id": "779ef551",
   "metadata": {
    "scrolled": true
   },
   "outputs": [],
   "source": [
    "#Example of arr.reshape(4,-1) function and arr.shape() function\n",
    "import numpy as np\n",
    "arr = np.arange(4).reshape(4,-1)\n",
    "print(arr,\"\\n\",arr.shape)"
   ]
  },
  {
   "cell_type": "markdown",
   "id": "1544e0b7",
   "metadata": {},
   "source": [
    "## numpy.less(to_campare , with )"
   ]
  },
  {
   "cell_type": "markdown",
   "id": "22537dc8",
   "metadata": {},
   "source": [
    "## Vectorized operations\n",
    "Suppose we're given a literacy rate data sample of State X and State Y for two consecutive years measured quarterly on a scale of 0-10. Let us try to arrive at the following outcomes:\n",
    "\n",
    "Quarterly difference between each state's literacy rate per year.\n",
    "\n",
    "Quarters having a literacy rate less than 2.\n",
    "\n",
    "Find out the cumulative sum of literacy rates by the end of every quarter each year. Find out the quarters for which this sum is greater or equal to 8.  \n",
    "\n",
    "Mean of each year's literacy rate of State X and mean of each quarterly's literacy rate of State Y.\n",
    "\n",
    "The data for each state is given below: as S_X and S_Y"
   ]
  },
  {
   "cell_type": "code",
   "execution_count": 5,
   "id": "e75647a2",
   "metadata": {
    "scrolled": true
   },
   "outputs": [
    {
     "name": "stdout",
     "output_type": "stream",
     "text": [
      "[[2 5 6 5]\n",
      " [4 8 6 5]]\n",
      "[[6 7 5 9]\n",
      " [7 5 6 4]] \n",
      "\n",
      "[[-4 -2  1 -4]\n",
      " [-3  3  0  1]] \n",
      "\n",
      "\n",
      "[[False False False False]\n",
      " [False False False False]]\n",
      "[[False False False False]\n",
      " [False False False False]] \n",
      "\n",
      "\n",
      "[ 6 13 12 10]\n",
      "[[False  True  True  True]]\n",
      "[13 12 11 13]\n",
      "[[ True  True  True  True]] \n",
      "\n",
      "\n",
      "(4.5, 5.75)\n",
      "[6.5 6.  5.5 6.5]\n"
     ]
    }
   ],
   "source": [
    "import numpy as np\n",
    "S_X = np.array([[2, 5, 6, 5],\n",
    "               [4, 8, 6, 5]])\n",
    "print(S_X)\n",
    "# [[2 5 6 5]\n",
    "#  [4 8 6 5]]\n",
    "\n",
    "\n",
    "S_Y = np.array([[6, 7, 5, 9],\n",
    "               [7, 5, 6, 4]])\n",
    "print(S_Y , \"\\n\")\n",
    "# [[6 7 5 9]\n",
    "#  [7 5 6 4]] \n",
    "\n",
    "print(S_X - S_Y, \"\\n\\n\") #1. Quarterly difference between each state's literacy rate per year\n",
    "\n",
    "print(S_X < 2) #2. Quarters having a literacy rate less than 2\n",
    "twos_mat = np.ones((2, 4)) * 2 # method 2 by creating a 2's matrice and comparison by numpy.less()\n",
    "print(np.less(S_Y, twos_mat), \"\\n\\n\")\n",
    "\n",
    "#Find out the cumulative sum of literacy \n",
    "# rates by the end of every quarter each year. \n",
    "# Find out the quarters for which this sum \n",
    "# is greater or equal to 8.\n",
    "eights_mat = np.ones((1,4)) * 8 \n",
    "print(S_X[0] + S_X[1])\n",
    "print((S_X[0] + S_X[1]) >= eights_mat)\n",
    "print(S_Y[0] + S_Y[1])\n",
    "print((S_Y[0] + S_Y[1]) >= eights_mat,\"\\n\\n\")\n",
    "\n",
    "#Mean of each year's literacy rate of State X and mean of each quarterly's literacy rate of State Y.\n",
    "mean_X = sum(S_X[0])/len(S_X[0]) , sum(S_X[1])/len(S_X[1])\n",
    "mean_Y = (S_Y[0]+S_Y[1])/len(S_Y)\n",
    "print(mean_X)\n",
    "print(mean_Y)"
   ]
  },
  {
   "cell_type": "markdown",
   "id": "0034bc69",
   "metadata": {},
   "source": [
    "ProblemStatement:\n",
    "Solve the following:\n",
    "Create a 4 x 4 matrix and add values 4,5,6 above the parent diagonal."
   ]
  },
  {
   "cell_type": "code",
   "execution_count": 20,
   "id": "103add3d",
   "metadata": {},
   "outputs": [
    {
     "name": "stdout",
     "output_type": "stream",
     "text": [
      "[0 1 2 3]\n",
      "[[1. 4. 0. 0.]\n",
      " [3. 1. 5. 0.]\n",
      " [0. 2. 1. 6.]\n",
      " [0. 0. 1. 1.]] \n",
      "\n",
      "\n",
      "\n",
      "[0 1 2 3 4]\n",
      "[0 1 2 3] [1 2 3 4] \n",
      "\n",
      "[[ 0 10  2  3  4]\n",
      " [ 5  6 20  8  9]\n",
      " [10 11 12 30 14]\n",
      " [15 16 17 18 40]\n",
      " [20 21 22 23 24]]\n"
     ]
    }
   ],
   "source": [
    "import numpy as np\n",
    "arr = np.eye(4)\n",
    "arr[0][1] = 4\n",
    "arr[1][2] = 5\n",
    "arr[2][3] = 6\n",
    "s = np.arange(len(arr))\n",
    "arr[s[1:],s[:-1]] = [3, 2, 1] #done for extra practice\n",
    "print(s)\n",
    "print(arr,\"\\n\\n\\n\")\n",
    "                    \n",
    "\n",
    "                    \n",
    "a = np.arange(25).reshape(5,5)\n",
    "s = np.arange(len(a))\n",
    "a[[0,1, 2, 3] ,[1, 2, 3, 4]] = [10,20,30,40]\n",
    "\n",
    "print(s)\n",
    "print(s[:-1], s[1:],\"\\n\")\n",
    "print(a)\n"
   ]
  },
  {
   "cell_type": "markdown",
   "id": "f296d3af",
   "metadata": {},
   "source": [
    "Given a Numpy array arr = np.arange(11), negate all the elements between 6 and 10."
   ]
  },
  {
   "cell_type": "code",
   "execution_count": null,
   "id": "5fcb837f",
   "metadata": {},
   "outputs": [],
   "source": [
    "import numpy as np\n",
    "arr = np.arange(11)\n",
    "arr[7:10]= -arr[7:10]\n",
    "print(arr)"
   ]
  },
  {
   "cell_type": "markdown",
   "id": "672d0ca4",
   "metadata": {},
   "source": [
    "Given a matrix mat and an array arr, for each row of the matrix if elements of Column 1 are equal to the corresponding element of the array, then print the corresponding value of Column 2 of the matrix."
   ]
  },
  {
   "cell_type": "code",
   "execution_count": null,
   "id": "83999500",
   "metadata": {
    "scrolled": true
   },
   "outputs": [],
   "source": [
    "import numpy as np\n",
    "mat = np.array([['abc','A'],['def','B'],['ghi','C'],['jkl','D']])\n",
    "arr = np.array(['abc','dfe','ghi','kjl']) \n",
    "print(mat)\n",
    "print(arr)\n",
    "# print(mat[0][1])\n",
    "# print(len(mat))\n",
    "for i in range(4) :\n",
    "    if mat[i][0] == arr[i]: \n",
    "        print(mat[i][1])\n"
   ]
  },
  {
   "cell_type": "markdown",
   "id": "06e1b7eb",
   "metadata": {},
   "source": [
    "Given a matrix mat, sort it by the second column.\n",
    "#### here np.argsort(matrix_name[column]) is used to sort "
   ]
  },
  {
   "cell_type": "code",
   "execution_count": null,
   "id": "2d468b51",
   "metadata": {},
   "outputs": [],
   "source": [
    "import numpy as np\n",
    "mat = np.array([[1,21,3],[5,4,2],[56,12,4]])\n",
    "#print(mat[:,1]) used to print 2nd column\n",
    "print(mat[np.argsort(mat[:,1])])"
   ]
  },
  {
   "cell_type": "markdown",
   "id": "b5e5bc9e",
   "metadata": {},
   "source": [
    "Given an array arr, find the top 4 maximum values.\n",
    "##### array_name.argsort() returns the sorted array"
   ]
  },
  {
   "cell_type": "code",
   "execution_count": 2,
   "id": "bccb21e6",
   "metadata": {},
   "outputs": [
    {
     "name": "stdout",
     "output_type": "stream",
     "text": [
      "[  0  13  13  14  16  24  45  50  90 590] [ 45  50  90 590]\n"
     ]
    }
   ],
   "source": [
    "import numpy as np\n",
    "arr = np.array([90, 14, 24, 13, 13, 590, 0, 45, 16, 50])\n",
    "arr.sort()\n",
    "print(arr,arr[-4:]) #printing last 4 elements arr[-4:]"
   ]
  },
  {
   "cell_type": "markdown",
   "id": "a230bd42",
   "metadata": {},
   "source": [
    "Find the nearest number from the given number in an array.\n",
    "##### array_name.argmin() -returns the index of the minimum value in the given array."
   ]
  },
  {
   "cell_type": "code",
   "execution_count": 3,
   "id": "9e960227",
   "metadata": {},
   "outputs": [
    {
     "name": "stdout",
     "output_type": "stream",
     "text": [
      "53 , 7\n"
     ]
    }
   ],
   "source": [
    "import numpy as np\n",
    "arr = np.array([10,55,22,3,6,44,9,53,54])\n",
    "nearest_to = 50\n",
    "idx = (np.abs(arr-nearest_to)).argmin() # stores index of the minimum in the calculated distance array.\n",
    "print(arr[idx],\",\",idx)\n"
   ]
  },
  {
   "cell_type": "markdown",
   "id": "6c08fb50",
   "metadata": {},
   "source": [
    "Additional operations\n",
    "Q.Find out the cumulative sum of literacy rates by the end of every quarter each year. Find out the   quarters for which this sum is greater or equal to 8.  "
   ]
  },
  {
   "cell_type": "code",
   "execution_count": 8,
   "id": "da22db60",
   "metadata": {},
   "outputs": [
    {
     "name": "stdout",
     "output_type": "stream",
     "text": [
      "[[ 2  7 13 18]\n",
      " [ 4 12 18 23]]\n",
      "[[False False  True  True]\n",
      " [False  True  True  True]]\n",
      "[[ 6 13 18 27]\n",
      " [ 7 12 18 22]]\n",
      "[[False  True  True  True]\n",
      " [False  True  True  True]]\n"
     ]
    }
   ],
   "source": [
    "X_cumsum = np.cumsum(S_X, axis = 1)\n",
    "print(X_cumsum)\n",
    "# [[ 2  7 13 18]\n",
    "#  [ 4 12 18 23]]\n",
    "print( X_cumsum >= 8)\n",
    "# [[False False  True  True]\n",
    "#  [False  True  True  True]]\n",
    "Y_cumsum = np.cumsum(S_Y, axis = 1)\n",
    "print(Y_cumsum)\n",
    "# [[ 6 13 18 27]\n",
    "#  [ 7 12 18 22]]\n",
    "print( Y_cumsum >= 8)\n",
    "# [[False  True  True  True]\n",
    "#  [False  True  True  True]] "
   ]
  },
  {
   "cell_type": "markdown",
   "id": "3c6b6ab2",
   "metadata": {},
   "source": [
    "Mean of each year's literacy rate of State X and mean of each quarterly's literacy rate of State Y."
   ]
  },
  {
   "cell_type": "code",
   "execution_count": 9,
   "id": "db2da72b",
   "metadata": {},
   "outputs": [
    {
     "name": "stdout",
     "output_type": "stream",
     "text": [
      "[4.5  5.75]\n"
     ]
    }
   ],
   "source": [
    " \n",
    "print(np.mean(S_X, axis = 1))\n",
    "# [ 4.5   5.75]"
   ]
  },
  {
   "cell_type": "markdown",
   "id": "c7be91d1",
   "metadata": {},
   "source": [
    "To find mean of quarterly literacy rate for State Y, we find mean with axis = 0."
   ]
  },
  {
   "cell_type": "code",
   "execution_count": 10,
   "id": "d9bd4c9a",
   "metadata": {},
   "outputs": [
    {
     "name": "stdout",
     "output_type": "stream",
     "text": [
      "[6.5 6.  5.5 6.5]\n"
     ]
    }
   ],
   "source": [
    " \n",
    "print(np.mean(S_Y, axis = 0))\n",
    "# [ 6.5  6.   5.5  6.5]\n",
    " "
   ]
  },
  {
   "cell_type": "code",
   "execution_count": 19,
   "id": "99ad3f7c",
   "metadata": {},
   "outputs": [
    {
     "name": "stdout",
     "output_type": "stream",
     "text": [
      "0\n",
      "25\n",
      "25\n"
     ]
    }
   ],
   "source": [
    "import numpy as np\n",
    "arr1 = np.arange(5)\n",
    "print(arr1[0])\n",
    "arr2 = arr1 \n",
    "arr2[0]+= 25\n",
    "print(arr1[0])\n",
    "print(arr2[0])"
   ]
  }
 ],
 "metadata": {
  "kernelspec": {
   "display_name": "Python 3 (ipykernel)",
   "language": "python",
   "name": "python3"
  },
  "language_info": {
   "codemirror_mode": {
    "name": "ipython",
    "version": 3
   },
   "file_extension": ".py",
   "mimetype": "text/x-python",
   "name": "python",
   "nbconvert_exporter": "python",
   "pygments_lexer": "ipython3",
   "version": "3.11.5"
  }
 },
 "nbformat": 4,
 "nbformat_minor": 5
}
