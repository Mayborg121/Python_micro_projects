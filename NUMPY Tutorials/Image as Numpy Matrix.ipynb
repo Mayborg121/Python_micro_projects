{
 "cells": [
  {
   "cell_type": "markdown",
   "id": "3dc2fd1e",
   "metadata": {},
   "source": [
    "## Image as NumPy matrix\n",
    "Let us consider a binary image named checker bilevel (PNG format) from scikit-image library available within Anaconda. An image having values either 0 for black and 255/1 for white is termed as a binary image. We'd like to perform following tasks:\n",
    "\n",
    "Retrieve common attributes like shape, number of dimension(s), size, etc.\n",
    "\n",
    "Deploy frequent methods like transpose, reshape, sort and compression.\n",
    "\n",
    "To start with let's import (or Click here  to download the image) and save the image in a variable named img."
   ]
  },
  {
   "cell_type": "code",
   "execution_count": 6,
   "id": "b638bd04",
   "metadata": {},
   "outputs": [],
   "source": [
    "import os.path\n",
    "from skimage.io import imread\n",
    "from skimage import data_dir\n",
    "img = imread(os.path.join(data_dir, 'checker_bilevel.png'))"
   ]
  },
  {
   "cell_type": "markdown",
   "id": "a2a56f14",
   "metadata": {},
   "source": [
    "### 1. Attributes: Since we're all set with our image, now we can observe commonly used NumPy object's attributes:"
   ]
  },
  {
   "cell_type": "code",
   "execution_count": 9,
   "id": "ae7d5ca4",
   "metadata": {},
   "outputs": [
    {
     "name": "stdout",
     "output_type": "stream",
     "text": [
      "<class 'numpy.ndarray'>\n",
      "2\n",
      "(10, 10)\n",
      "100\n",
      "1\n",
      "100\n"
     ]
    }
   ],
   "source": [
    " \n",
    "''' Image stored as numpy object (2D Matrix) '''\n",
    "print(type(img))        # <class 'numpy.ndarray'>\n",
    "''' Number of image dimensions '''\n",
    "print(img.ndim)         # 2\n",
    "''' Shape of the image (rows, columns) '''\n",
    "print(img.shape)        # (10, 10)\n",
    "''' Number of total elements in the image '''\n",
    "print(img.size)         # 100 \n",
    "''' Size of per element (in bytes) '''\n",
    "print(img.itemsize)     # 1\n",
    "''' Size of complete image (in bytes) '''\n",
    "print(img.nbytes)       # 100\n"
   ]
  },
  {
   "cell_type": "markdown",
   "id": "c3338883",
   "metadata": {},
   "source": [
    "### 2. Methods: We can perform listed operations using a direct NumPy matrix attribute and method(s) as listed:\n",
    "\n",
    "Transpose: matrix_name.T\n",
    "\n",
    "Sort: matrix_name.sort()\n",
    "\n",
    "Reshape: matrix_name.reshape(nrow, ncolumn)\n",
    "\n",
    "Compression: matrix_name.compress( [bool_lst] ). Here, bool_lst refers to the boolean value passed corresponding to each row/column.\n",
    "\n",
    "#### Let us code for each case scenario -"
   ]
  },
  {
   "cell_type": "code",
   "execution_count": 12,
   "id": "e49cd412",
   "metadata": {},
   "outputs": [
    {
     "name": "stdout",
     "output_type": "stream",
     "text": [
      "(6, 10)\n"
     ]
    }
   ],
   "source": [
    "''' assuming you have read the image in variable img '''\n",
    "# Transpose\n",
    "img_t = img.T\n",
    "# Reshape\n",
    "img_reshape = img.reshape(5, 20)\n",
    "# Sort\n",
    "img_srt = img.copy()\n",
    "img_srt.sort(axis = 0) \n",
    "# Compression\n",
    "img_cmp = img.copy()\n",
    "img_cmp = img_cmp.compress([True,False,True,0,1,1,1,0,0,1],axis = 0)\n",
    "print(img_cmp.shape)"
   ]
  },
  {
   "cell_type": "markdown",
   "id": "72166e42",
   "metadata": {},
   "source": [
    "### The images can be visualized using following code snippet -"
   ]
  },
  {
   "cell_type": "code",
   "execution_count": 18,
   "id": "f412765b",
   "metadata": {},
   "outputs": [
    {
     "data": {
      "text/plain": [
       "<matplotlib.image.AxesImage at 0x21c6526cc10>"
      ]
     },
     "execution_count": 18,
     "metadata": {},
     "output_type": "execute_result"
    },
    {
     "data": {
      "image/png": "[encoded data removed]",
      "text/plain": [
       "<Figure size 640x480 with 1 Axes>"
      ]
     },
     "metadata": {},
     "output_type": "display_data"
    }
   ],
   "source": [
    "import matplotlib.pyplot as plt\n",
    "plt.imshow(img_t, cmap = 'Greys') # Pass above used image names in place of 'img' to visualize"
   ]
  }
 ],
 "metadata": {
  "kernelspec": {
   "display_name": "Python 3 (ipykernel)",
   "language": "python",
   "name": "python3"
  },
  "language_info": {
   "codemirror_mode": {
    "name": "ipython",
    "version": 3
   },
   "file_extension": ".py",
   "mimetype": "text/x-python",
   "name": "python",
   "nbconvert_exporter": "python",
   "pygments_lexer": "ipython3",
   "version": "3.11.5"
  }
 },
 "nbformat": 4,
 "nbformat_minor": 5
}
