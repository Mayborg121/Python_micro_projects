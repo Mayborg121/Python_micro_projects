{
 "cells": [
  {
   "cell_type": "markdown",
   "id": "c698676d",
   "metadata": {},
   "source": [
    "Q.Given a matrix mat of size 3 x 3. Find the maximum numbers from each row, say N1, N2 and N3. Result in a matrix by adding:\n",
    "\n",
    "-N1 to the upper half elements of mat\n",
    "\n",
    "-N2 to the main diagonal elements of mat\n",
    "\n",
    "-N3 to the lower half elements of mat"
   ]
  },
  {
   "cell_type": "code",
   "execution_count": 1,
   "id": "7efa6be9",
   "metadata": {},
   "outputs": [
    {
     "ename": "SyntaxError",
     "evalue": "incomplete input (212862255.py, line 8)",
     "output_type": "error",
     "traceback": [
      "\u001b[1;36m  Cell \u001b[1;32mIn[1], line 8\u001b[1;36m\u001b[0m\n\u001b[1;33m    \u001b[0m\n\u001b[1;37m    ^\u001b[0m\n\u001b[1;31mSyntaxError\u001b[0m\u001b[1;31m:\u001b[0m incomplete input\n"
     ]
    }
   ],
   "source": [
    "import numpy as np\n",
    "mat = np.array([[10,5,9],\n",
    "                [2,20,6],\n",
    "                [8,3,30]]).reshape(3,3)\n",
    "s= np.arange(len(mat))\n",
    "print(mat)\n",
    "for i in range(len(mat)):\n",
    "    "
   ]
  },
  {
   "cell_type": "code",
   "execution_count": 5,
   "id": "53006f09",
   "metadata": {},
   "outputs": [
    {
     "ename": "SyntaxError",
     "evalue": "leading zeros in decimal integer literals are not permitted; use an 0o prefix for octal integers (3327875492.py, line 6)",
     "output_type": "error",
     "traceback": [
      "\u001b[1;36m  Cell \u001b[1;32mIn[5], line 6\u001b[1;36m\u001b[0m\n\u001b[1;33m    print(mat1.sum(axis = 01).shape)\u001b[0m\n\u001b[1;37m                          ^\u001b[0m\n\u001b[1;31mSyntaxError\u001b[0m\u001b[1;31m:\u001b[0m leading zeros in decimal integer literals are not permitted; use an 0o prefix for octal integers\n"
     ]
    }
   ],
   "source": [
    "import numpy as np\n",
    "\n",
    "mat1 = np.matrix([[111, 1322],\n",
    "                  [785, 554]])\n",
    "\n",
    "print(mat1.sum(axis = 01).shape)\n",
    "print(mat1.sum(axis = 1).shape)"
   ]
  },
  {
   "cell_type": "code",
   "execution_count": 6,
   "id": "b8acbd66",
   "metadata": {},
   "outputs": [
    {
     "name": "stdout",
     "output_type": "stream",
     "text": [
      "[16 12]\n"
     ]
    }
   ],
   "source": [
    "arr = np.array([10,5,6,7]).reshape(2,-1)\n",
    "print(arr.sum(axis = 0))\n",
    " "
   ]
  },
  {
   "cell_type": "code",
   "execution_count": 7,
   "id": "3c13483f",
   "metadata": {},
   "outputs": [
    {
     "name": "stdout",
     "output_type": "stream",
     "text": [
      "17.0\n"
     ]
    }
   ],
   "source": [
    "import numpy as np\n",
    "arr = np.arange(9, dtype = \"float\").reshape(3,3)\n",
    "ind1 = np.array([[1,2],[0,1]])\n",
    "ind2 = np.array([[0,2],[1,2]])\n",
    "print(arr[ind1, ind2].sum())"
   ]
  }
 ],
 "metadata": {
  "kernelspec": {
   "display_name": "Python 3 (ipykernel)",
   "language": "python",
   "name": "python3"
  },
  "language_info": {
   "codemirror_mode": {
    "name": "ipython",
    "version": 3
   },
   "file_extension": ".py",
   "mimetype": "text/x-python",
   "name": "python",
   "nbconvert_exporter": "python",
   "pygments_lexer": "ipython3",
   "version": "3.11.5"
  }
 },
 "nbformat": 4,
 "nbformat_minor": 5
}
